{
 "cells": [
  {
   "cell_type": "code",
   "execution_count": 9,
   "metadata": {},
   "outputs": [
    {
     "name": "stdout",
     "output_type": "stream",
     "text": [
      "2\n",
      "4 4 4 4 4 4 4 4 \n",
      "32\n"
     ]
    }
   ],
   "source": [
    "N = int(input())\n",
    "\n",
    "S = input().split()\n",
    "\n",
    "\n",
    "for i in range(len(S)):\n",
    "    S[i] = int(S[i])\n",
    "    \n",
    "V = sum(S)\n",
    "    \n",
    "print(V)"
   ]
  },
  {
   "cell_type": "code",
   "execution_count": 112,
   "metadata": {},
   "outputs": [
    {
     "name": "stdout",
     "output_type": "stream",
     "text": [
      "3\n",
      "10000000\n",
      "100000\n",
      "1000000\n",
      "1\n"
     ]
    }
   ],
   "source": [
    "#entrada de dados\n",
    "N = int(input())\n",
    "\n",
    "visua = []\n",
    "\n",
    "for i in range(N):\n",
    "    A = int(input())\n",
    "    visua.append(A)\n",
    "\n",
    "#processamento\n",
    "total = 0\n",
    "resposta = -1\n",
    "\n",
    "for i, v in enumerate(visua):\n",
    "    dia = i + 1\n",
    "    total = total + v\n",
    "    if total >= 1000000 and resposta == -1:\n",
    "        resposta = dia\n",
    "\n",
    "print(resposta)"
   ]
  },
  {
   "cell_type": "code",
   "execution_count": 133,
   "metadata": {},
   "outputs": [
    {
     "name": "stdout",
     "output_type": "stream",
     "text": [
      "2\n",
      "1 2 2 2 1 1 1 1 1\n",
      "1\n",
      "1\n"
     ]
    }
   ],
   "source": [
    "#entrada de dados\n",
    "N = input()\n",
    "L = input().split()\n",
    "\n",
    "#processamento de dados\n",
    "\n",
    "A = 0\n",
    "B = 0\n",
    "\n",
    "for acao in L:\n",
    "    if (acao == '1'):\n",
    "        A = 1 if A == 0 else 0\n",
    "        \n",
    "    elif acao == \"2\":\n",
    "        A = 1 if A == 0 else 0\n",
    "        B = 1 if B == 0 else 0\n",
    "     \n",
    "            \n",
    "print(A)\n",
    "print(B)"
   ]
  },
  {
   "cell_type": "code",
   "execution_count": 1,
   "metadata": {},
   "outputs": [
    {
     "name": "stdout",
     "output_type": "stream",
     "text": [
      "2 \n",
      "2\n",
      "1.00\n"
     ]
    }
   ],
   "source": [
    "A = input() \n",
    "B = input()\n",
    "\n",
    "\n",
    "A =float(A)\n",
    "B= float(B)\n",
    "\n",
    "S=A/B\n",
    "\n",
    "print(\"{:.2f}\".format(S))"
   ]
  },
  {
   "cell_type": "code",
   "execution_count": 2,
   "metadata": {},
   "outputs": [
    {
     "name": "stdout",
     "output_type": "stream",
     "text": [
      "\n"
     ]
    },
    {
     "ename": "ValueError",
     "evalue": "not enough values to unpack (expected 2, got 0)",
     "output_type": "error",
     "traceback": [
      "\u001b[0;31m---------------------------------------------------\u001b[0m",
      "\u001b[0;31mValueError\u001b[0m        Traceback (most recent call last)",
      "\u001b[0;32m<ipython-input-2-f6a18b2d95e2>\u001b[0m in \u001b[0;36m<module>\u001b[0;34m()\u001b[0m\n\u001b[0;32m----> 1\u001b[0;31m \u001b[0mA\u001b[0m\u001b[0;34m,\u001b[0m \u001b[0mB\u001b[0m \u001b[0;34m=\u001b[0m \u001b[0minput\u001b[0m\u001b[0;34m(\u001b[0m\u001b[0;34m)\u001b[0m\u001b[0;34m.\u001b[0m\u001b[0msplit\u001b[0m\u001b[0;34m(\u001b[0m\u001b[0;34m)\u001b[0m\u001b[0;34m\u001b[0m\u001b[0m\n\u001b[0m\u001b[1;32m      2\u001b[0m \u001b[0;34m\u001b[0m\u001b[0m\n\u001b[1;32m      3\u001b[0m \u001b[0mA\u001b[0m \u001b[0;34m=\u001b[0m \u001b[0mfloat\u001b[0m\u001b[0;34m(\u001b[0m\u001b[0mA\u001b[0m\u001b[0;34m)\u001b[0m\u001b[0;34m\u001b[0m\u001b[0m\n\u001b[1;32m      4\u001b[0m \u001b[0mB\u001b[0m \u001b[0;34m=\u001b[0m \u001b[0mfloat\u001b[0m\u001b[0;34m(\u001b[0m\u001b[0mB\u001b[0m\u001b[0;34m)\u001b[0m\u001b[0;34m\u001b[0m\u001b[0m\n\u001b[1;32m      5\u001b[0m \u001b[0;34m\u001b[0m\u001b[0m\n",
      "\u001b[0;31mValueError\u001b[0m: not enough values to unpack (expected 2, got 0)"
     ]
    }
   ],
   "source": [
    "A, B = input().split()\n",
    "\n",
    "A = float(A)\n",
    "B = float(B)\n",
    "\n",
    "media = (A + B) / 2 \n",
    "\n",
    "if media >= 7:\n",
    "    print(\"Aprovado\")\n",
    "elif media >=5:\n",
    "    print(\"Recuperacao\")\n",
    "else:\n",
    "    print(\"Reprovado\")"
   ]
  },
  {
   "cell_type": "code",
   "execution_count": null,
   "metadata": {},
   "outputs": [],
   "source": [
    "A = 5\n",
    "B = 10\n",
    "C = 5\n",
    "\n",
    "if A < B and A != C:\n",
    "    print(\"Expressão verdadeira\")\n",
    "else:\n",
    "    print(\"Expressão Falsa\")"
   ]
  },
  {
   "cell_type": "code",
   "execution_count": null,
   "metadata": {},
   "outputs": [],
   "source": [
    "P, R = input().split()\n",
    "\n",
    "P = int(P)\n",
    "R = int(R)\n",
    "\n",
    "if P == 0:\n",
    "    print(\"C\")\n",
    "elif R == 0:\n",
    "    print(\"B\")\n",
    "else:\n",
    "    print(\"A\")"
   ]
  },
  {
   "cell_type": "code",
   "execution_count": null,
   "metadata": {},
   "outputs": [],
   "source": [
    "A, B , C = input().split()\n",
    "\n",
    "A = int(A)\n",
    "B = int(B)\n",
    "C = int(C)\n",
    "\n",
    "if A != B and A!=C:\n",
    "    print(\"A\")\n",
    "elif B != A and B != C:\n",
    "    print(\"B\")\n",
    "elif C != A and C != B:\n",
    "    print(\"C\")\n",
    "else:\n",
    "    print(\"*\")"
   ]
  },
  {
   "cell_type": "code",
   "execution_count": null,
   "metadata": {},
   "outputs": [],
   "source": [
    "v = 0\n",
    "\n",
    "while v < 5:\n",
    "    print(v)\n",
    "    v = v+1"
   ]
  },
  {
   "cell_type": "code",
   "execution_count": null,
   "metadata": {},
   "outputs": [],
   "source": [
    "N = int(input())\n",
    "\n",
    "S = input().split()\n",
    "\n",
    "\n",
    "for i in range(len(N)):\n",
    "    S[i] = int(S[i])\n",
    "    \n",
    "V = sum(S[i])\n",
    "    \n",
    "print(V)"
   ]
  },
  {
   "cell_type": "code",
   "execution_count": null,
   "metadata": {},
   "outputs": [],
   "source": [
    "S = \"palavra de amor\"\n",
    "print(S[0:-1])\n",
    "\n",
    "#Tamanho\n",
    "print(len(S))\n",
    "\n",
    "#Troca\n",
    "print(S.replace(\"a\", \"o\"))\n",
    "\n",
    "\n",
    "print(S)\n",
    "\n",
    "#Split\n",
    "print(S.split(\"a\"))\n",
    "\n",
    "#Contém\n",
    "print(\"a\" in S)\n",
    "\n",
    "for c in S:\n",
    "    print(c)"
   ]
  },
  {
   "cell_type": "code",
   "execution_count": null,
   "metadata": {},
   "outputs": [],
   "source": [
    "#Entrada de dados\n",
    "N = int(input())\n",
    "\n",
    "oficial = input()\n",
    "candidato = input()\n",
    "\n",
    "total = 0\n",
    "\n",
    "#for i in range(N):\n",
    "#    if oficial[i] == candidato[i]:\n",
    "#        total = total + 1\n",
    "        #candidato acertou a questão\n",
    "\n",
    "for o, c in zip(oficial, candidato):\n",
    "#    print(o, c)\n",
    "    if o == c:\n",
    "        total += 1\n",
    "    \n",
    "print(total)"
   ]
  },
  {
   "cell_type": "code",
   "execution_count": null,
   "metadata": {},
   "outputs": [],
   "source": [
    "S = input()\n",
    "\n",
    "vogais = ['a', 'e', 'i', 'o', 'u']\n",
    "\n",
    "R = ''\n",
    "\n",
    "for c in S:\n",
    "    if c in vogais:\n",
    "        R += c\n",
    "        \n",
    "print(R)\n",
    "print(R[::-1])\n",
    "\n",
    "if R == R[::-1]:\n",
    "    print('S')\n",
    "else:\n",
    "    print('N')"
   ]
  },
  {
   "cell_type": "code",
   "execution_count": null,
   "metadata": {},
   "outputs": [],
   "source": [
    "import math\n",
    "\n",
    "N = int(input())\n",
    "X = (input().split())\n",
    "\n",
    "X = list(map(float, X))\n",
    "\n",
    "for i in X:\n",
    "    X = math.sqrt(i)\n",
    "    print(\"%.4f\" % X)\n"
   ]
  },
  {
   "cell_type": "code",
   "execution_count": 7,
   "metadata": {},
   "outputs": [
    {
     "name": "stdout",
     "output_type": "stream",
     "text": [
      "2.5 2\n",
      "6.2500\n"
     ]
    }
   ],
   "source": [
    "import math\n",
    "\n",
    "X = (input().split())\n",
    "X = list(map(float, X))\n",
    "\n",
    "print(\"%.4f\" % math.pow(X[0],X[1]))\n",
    "\n",
    "\n"
   ]
  },
  {
   "cell_type": "code",
   "execution_count": 16,
   "metadata": {},
   "outputs": [],
   "source": [
    "def calculo(x,y):\n",
    "    resp = x**2 + y**2\n",
    "    return resp, x**2, y**2\n",
    "\n",
    "#diferenca entre tupla e lista - tupla não pode ser modificada"
   ]
  },
  {
   "cell_type": "code",
   "execution_count": 20,
   "metadata": {},
   "outputs": [
    {
     "name": "stdout",
     "output_type": "stream",
     "text": [
      "(116, 100, 16)\n"
     ]
    }
   ],
   "source": [
    "print(calculo(10,4))\n"
   ]
  },
  {
   "cell_type": "code",
   "execution_count": 23,
   "metadata": {},
   "outputs": [
    {
     "name": "stdout",
     "output_type": "stream",
     "text": [
      "(104, 100, 4)\n",
      "100\n",
      "104\n",
      "104 100\n"
     ]
    }
   ],
   "source": [
    "resultado = calculo(10,2)\n",
    "print(resultado)\n",
    "print(resultado[1])\n",
    "resultado, *_ = calculo(10,2)\n",
    "print(resultado)\n",
    "resultado, x_quadr, *_ = calculo(10,2)\n",
    "print(resultado, x_quadr)"
   ]
  },
  {
   "cell_type": "code",
   "execution_count": 29,
   "metadata": {},
   "outputs": [
    {
     "ename": "AttributeError",
     "evalue": "module 'modulo' has no attribute 'calc'",
     "output_type": "error",
     "traceback": [
      "\u001b[0;31m---------------------------------------------------\u001b[0m",
      "\u001b[0;31mAttributeError\u001b[0m    Traceback (most recent call last)",
      "\u001b[0;32m<ipython-input-29-61630c420524>\u001b[0m in \u001b[0;36m<module>\u001b[0;34m()\u001b[0m\n\u001b[1;32m      1\u001b[0m \u001b[0;32mimport\u001b[0m \u001b[0mmodulo\u001b[0m\u001b[0;34m\u001b[0m\u001b[0m\n\u001b[1;32m      2\u001b[0m \u001b[0;34m\u001b[0m\u001b[0m\n\u001b[0;32m----> 3\u001b[0;31m \u001b[0mresultado\u001b[0m \u001b[0;34m=\u001b[0m \u001b[0mmodulo\u001b[0m\u001b[0;34m.\u001b[0m\u001b[0mcalc\u001b[0m\u001b[0;34m\u001b[0m\u001b[0m\n\u001b[0m",
      "\u001b[0;31mAttributeError\u001b[0m: module 'modulo' has no attribute 'calc'"
     ]
    }
   ],
   "source": [
    "import modulo\n",
    "\n",
    "resultado = modulo.calc"
   ]
  },
  {
   "cell_type": "code",
   "execution_count": 34,
   "metadata": {},
   "outputs": [
    {
     "name": "stdout",
     "output_type": "stream",
     "text": [
      "3\n",
      "6\n"
     ]
    }
   ],
   "source": [
    "def fatorial(N):\n",
    "    #Seu código aqui\n",
    "    if N == 0:\n",
    "        return 1\n",
    "    if N == 1:\n",
    "        return 1\n",
    "    if N > 1:\n",
    "        return fatorial(N-1) * N\n",
    "        \n",
    "N = int(input())\n",
    "print(fatorial(N))"
   ]
  },
  {
   "cell_type": "code",
   "execution_count": 63,
   "metadata": {},
   "outputs": [
    {
     "name": "stdout",
     "output_type": "stream",
     "text": [
      "9\n",
      "N\n"
     ]
    }
   ],
   "source": [
    "def eh_primo(x):\n",
    "    i = 1\n",
    "    div = 0\n",
    "    for i in range(1,x):\n",
    "        if(x % i == 0):\n",
    "            div += 1\n",
    "        i += 1\n",
    "    if(div == 1): return True\n",
    "               \n",
    "x = int(input())\n",
    "if eh_primo(x):\n",
    "    print('S')\n",
    "else:\n",
    "    print('N')"
   ]
  },
  {
   "cell_type": "code",
   "execution_count": 66,
   "metadata": {},
   "outputs": [
    {
     "name": "stdout",
     "output_type": "stream",
     "text": [
      "[2, 3, 5, 9, 10]\n",
      "[10, 9, 5, 3, 2]\n"
     ]
    }
   ],
   "source": [
    "L = [3, 2 ,5 ,9, 10]\n",
    "\n",
    "R = sorted(L)\n",
    "\n",
    "L.sort(reverse=True)\n",
    "\n",
    "print(R)\n",
    "print(L)"
   ]
  },
  {
   "cell_type": "code",
   "execution_count": 84,
   "metadata": {},
   "outputs": [
    {
     "name": "stdout",
     "output_type": "stream",
     "text": [
      "2 \n",
      "2 2 2 2 2 5 5 45 54 5 654 541 5614 21 261 14 564 5641 564 56456 456 456 4564 56 4564 564 564 56 4564  \n",
      "2 2 2 2 2 5 5 5 14 21 45 54 56 56 261 456 456 541 564 564 564 564 654 4564 4564 4564 5614 5641 56456\n"
     ]
    }
   ],
   "source": [
    "N = int(input())\n",
    "\n",
    "N = (input().split())\n",
    "N = (map(int, N))\n",
    "L = sorted(N)\n",
    "#imprimir string separado por espaço\n",
    "L = \" \".join(map(str, L))\n",
    "\n",
    "print(L)\n"
   ]
  }
 ],
 "metadata": {
  "kernelspec": {
   "display_name": "Python 3",
   "language": "python",
   "name": "python3"
  },
  "language_info": {
   "codemirror_mode": {
    "name": "ipython",
    "version": 3
   },
   "file_extension": ".py",
   "mimetype": "text/x-python",
   "name": "python",
   "nbconvert_exporter": "python",
   "pygments_lexer": "ipython3",
   "version": "3.6.6"
  }
 },
 "nbformat": 4,
 "nbformat_minor": 2
}
